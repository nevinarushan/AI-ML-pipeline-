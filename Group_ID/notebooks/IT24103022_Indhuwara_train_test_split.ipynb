{
 "cells": [
  {
   "cell_type": "markdown",
   "id": "19ab6d0b19c334b1",
   "metadata": {},
   "source": [
    "# Part 5: Train/Test Split & Scaling\n",
    "**Student:** Indhuwara (IT24103022)"
   ]
  },
  {
   "cell_type": "code",
   "execution_count": null,
   "id": "e61f3e9c47c45a7e",
   "metadata": {},
   "outputs": [],
   "source": [
    "import pandas as pd\n",
    "from sklearn.model_selection import train_test_split\n",
    "from sklearn.preprocessing import StandardScaler\n",
    "from sklearn.feature_selection import mutual_info_classif\n",
    "import matplotlib.pyplot as plt\n",
    "import seaborn as sns\n",
    "import os\n",
    "\n",
    "members = {\"Kishan Ahamed\": \"IT24103829\", \"Abhinaya Kumar\": \"IT24103851\", \"Lafry\": \"IT24103834\", \"Nevin Nijanthan\": \"IT24102335\", \"Indhuwara\": \"IT24103022\", \"Sandali\": \"IT24103843\"}\n",
    "output_viz_path = \"../results/eda_visualizations/\"\n",
    "if not os.path.exists(output_viz_path):\n",
    "    os.makedirs(output_viz_path)\n",
    "\n",
    "try:\n",
    "    df = pd.read_csv(\"../data/raw/creditcard.csv\")\n",
    "    print(\"=== Dataset Loaded ===\")\n",
    "    X_temp = df.drop('Class', axis=1)\n",
    "    y_temp = df['Class']\n",
    "    mi_scores = mutual_info_classif(X_temp, y_temp, random_state=42)\n",
    "    mi_series = pd.Series(mi_scores, index=X_temp.columns).sort_values(ascending=False)\n",
    "    selected_features = mi_series[mi_series > 0].index.tolist()\n",
    "    X = df[selected_features]\n",
    "    y = df['Class']\n",
    "except FileNotFoundError:\n",
    "    print(\"Error: creditcard.csv not found. Make sure it is in the 'data/raw' directory.\")\n",
    "\n",
    "if 'X' in locals() and 'y' in locals():\n",
    "    X_train, X_test, y_train, y_test = train_test_split(\n",
    "        X, y, test_size=0.2, random_state=42, stratify=y)\n",
    "\n",
    "    scaler = StandardScaler()\n",
    "    X_train_scaled = scaler.fit_transform(X_train)\n",
    "    X_test_scaled = scaler.transform(X_test)\n",
    "\n",
    "    train_df = pd.DataFrame(X_train_scaled, columns=X_train.columns)\n",
    "    train_df['Class'] = y_train.values\n",
    "    plt.figure(figsize=(12,6))\n",
    "    sns.boxplot(x='Class', y='Amount', data=train_df)\n",
    "    plt.title(\"Boxplot of 'Amount' BEFORE SMOTE\")\n",
    "    plt.savefig(f\"{output_viz_path}{members['Indhuwara']}_Indhuwara_train_test_split.png\")\n",
    "    plt.close()\n",
    "\n",
    "    print(\"✅ Train/Test split and scaling complete.\")\n",
    "    print(f\"Training set shape: {X_train_scaled.shape}\")\n",
    "    print(f\"Test set shape: {X_test_scaled.shape}\")"
   ]
  }
 ],
 "metadata": {
  "kernelspec": {
   "display_name": "Python 3 (ipykernel)",
   "language": "python",
   "name": "python3"
  },
  "language_info": {
   "codemirror_mode": {
    "name": "ipython",
    "version": 3
   },
   "file_extension": ".py",
   "mimetype": "text/x-python",
   "name": "python",
   "nbconvert_exporter": "python",
   "pygments_lexer": "ipython3",
   "version": "3.12.3"
  }
 },
 "nbformat": 4,
 "nbformat_minor": 5
}
