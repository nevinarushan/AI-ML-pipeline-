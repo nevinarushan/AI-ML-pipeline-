{
 "cells": [
  {
   "cell_type": "markdown",
   "id": "bedef20423c766a8",
   "metadata": {},
   "source": [
    "# Part 2: Encode Categorical Variables\n",
    "**Student:** Abhinaya Kumar (IT24103851)"
   ]
  },
  {
   "cell_type": "code",
   "execution_count": null,
   "id": "ba3123a41a1b4c94",
   "metadata": {},
   "outputs": [],
   "source": [
    "import pandas as pd\n",
    "from sklearn.preprocessing import LabelEncoder\n",
    "import matplotlib.pyplot as plt\n",
    "import seaborn as sns\n",
    "import os\n",
    "\n",
    "members = {\"Kishan Ahamed\": \"IT24103829\", \"Abhinaya Kumar\": \"IT24103851\", \"Lafry\": \"IT24103834\", \"Nevin Nijanthan\": \"IT24102335\", \"Indhuwara\": \"IT24103022\", \"Sandali\": \"IT24103843\"}\n",
    "output_viz_path = \"../results/eda_visualizations/\"\n",
    "if not os.path.exists(output_viz_path):\n",
    "    os.makedirs(output_viz_path)\n",
    "\n",
    "try:\n",
    "    df = pd.read_csv(\"../data/raw/creditcard.csv\")\n",
    "    print(\"=== Dataset Loaded ===\")\n",
    "except FileNotFoundError:\n",
    "    print(\"Error: creditcard.csv not found. Make sure it is in the 'data/raw' directory.\")\n",
    "\n",
    "if 'df' in locals():\n",
    "    categorical_cols = df.select_dtypes(include=['object']).columns\n",
    "    if len(categorical_cols) > 0:\n",
    "        print(f\"\\nEncoding categorical variables: {list(categorical_cols)}\")\n",
    "        le = LabelEncoder()\n",
    "        for col in categorical_cols:\n",
    "            df[col] = le.fit_transform(df[col])\n",
    "            plt.figure(figsize=(8,4))\n",
    "            sns.countplot(x=col, data=df)\n",
    "            plt.title(f\"Value Counts for {col} (After Encoding)\")\n",
    "            plt.savefig(f\"{output_viz_path}{members['Abhinaya Kumar']}_Abhinaya_Kumar_{col}_encoding.png\")\n",
    "            plt.close()\n",
    "    else:\n",
    "        print(\"✅ No categorical variables found.\")\n",
    "        # Placeholder plot\n",
    "        plt.figure(figsize=(6,4))\n",
    "        plt.bar(['No categorical columns'], [1], color='gray')\n",
    "        plt.title(\"No Categorical Columns Found\")\n",
    "        plt.savefig(f\"{output_viz_path}{members['Abhinaya Kumar']}_Abhinaya_Kumar_no_categorical.png\")\n",
    "        plt.close()"
   ]
  }
 ],
 "metadata": {
  "kernelspec": {
   "display_name": "Python 3 (ipykernel)",
   "language": "python",
   "name": "python3"
  },
  "language_info": {
   "codemirror_mode": {
    "name": "ipython",
    "version": 3
   },
   "file_extension": ".py",
   "mimetype": "text/x-python",
   "name": "python",
   "nbconvert_exporter": "python",
   "pygments_lexer": "ipython3",
   "version": "3.12.3"
  }
 },
 "nbformat": 4,
 "nbformat_minor": 5
}