{
 "cells": [
  {
   "cell_type": "markdown",
   "id": "a1b2c3d4",
   "metadata": {},
   "source": [
    "# Part 1: Handle Missing Values\n",
    "**Student:** Kishan Ahamed (IT24103829)"
   ]
  },
  {
   "cell_type": "code",
   "execution_count": null,
   "id": "e5f6g7h8",
   "metadata": {},
   "outputs": [],
   "source": [
    "import pandas as pd\n",
    "import seaborn as sns\n",
    "import matplotlib.pyplot as plt\n",
    "import os\n",
    "\n",
    "members = {\"Kishan Ahamed\": \"IT24103829\", \"Abhinaya Kumar\": \"IT24103851\", \"Lafry\": \"IT24103834\", \"Nevin Nijanthan\": \"IT24102335\", \"Indhuwara\": \"IT24103022\", \"Sandali\": \"IT24103843\"}\n",
    "output_viz_path = \"../results/eda_visualizations/\"\n",
    "if not os.path.exists(output_viz_path):\n",
    "    os.makedirs(output_viz_path)\n",
    "\n",
    "try:\n",
    "    df = pd.read_csv(\"../data/raw/creditcard.csv\")\n",
    "    print(\"=== Dataset Loaded ===\")\n",
    "except FileNotFoundError:\n",
    "    print(\"Error: creditcard.csv not found. Make sure it is in the 'data/raw' directory.\")\n",
    "\n",
    "if 'df' in locals():\n",
    "    print(\"\\nMissing values:\\n\", df.isnull().sum())\n",
    "    if df.isnull().sum().sum() > 0:\n",
    "        print(\"\\nHandling missing values...\")\n",
    "        for col in df.columns:\n",
    "            if df[col].dtype in ['float64', 'int64']:\n",
    "                df[col] = df[col].fillna(df[col].median())\n",
    "            else:\n",
    "                df[col] = df[col].fillna(df[col].mode()[0])\n",
    "        plt.figure(figsize=(12,6))\n",
    "        sns.heatmap(df.isnull(), cbar=False, yticklabels=False, cmap='viridis')\n",
    "        plt.title(\"Missing Values Heatmap After Imputation\")\n",
    "        plt.savefig(f\"{output_viz_path}{members['Kishan Ahamed']}_Kishan_Ahamed_missing_values.png\")\n",
    "        plt.close()\n",
    "    else:\n",
    "        print(\"✅ No missing values found.\")"
   ]
  }
 ],
 "metadata": {
  "kernelspec": {
   "display_name": "Python 3",
   "language": "python",
   "name": "python3"
  },
  "language_info": {
   "name": "python"
  }
 },
 "nbformat": 4,
 "nbformat_minor": 5
}