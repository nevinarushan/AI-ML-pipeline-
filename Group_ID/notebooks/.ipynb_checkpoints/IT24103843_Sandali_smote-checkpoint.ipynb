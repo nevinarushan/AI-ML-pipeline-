{
 "cells": [
  {
   "cell_type": "markdown",
   "id": "a6a2d5a4d3b1c8e7",
   "metadata": {},
   "source": [
    "# Part 6: SMOTE (Synthetic Minority Over-sampling Technique)\n",
    "**Student:** Sandali (IT24103843)"
   ]
  },
  {
   "cell_type": "code",
   "execution_count": null,
   "id": "b1c2d3e4f5a6b7c8",
   "metadata": {},
   "outputs": [],
   "source": [
    "import pandas as pd\n",
    "from imblearn.over_sampling import SMOTE\n",
    "from sklearn.model_selection import train_test_split\n",
    "from sklearn.preprocessing import StandardScaler\n",
    "from sklearn.feature_selection import mutual_info_classif\n",
    "import matplotlib.pyplot as plt\n",
    "import seaborn as sns\n",
    "import os\n",
    "\n",
    "members = {\"Kishan Ahamed\": \"IT24103829\", \"Abhinaya Kumar\": \"IT24103851\", \"Lafry\": \"IT24103834\", \"Nevin Nijanthan\": \"IT24102335\", \"Indhuwara\": \"IT24103022\", \"Sandali\": \"IT24103843\"}\n",
    "output_viz_path = \"../results/eda_visualizations/\"\n",
    "if not os.path.exists(output_viz_path):\n",
    "    os.makedirs(output_viz_path)\n",
    "\n",
    "try:\n",
    "    df = pd.read_csv(\"../data/raw/creditcard.csv\")\n",
    "    print(\"=== Dataset Loaded ===\")\n",
    "    X_temp = df.drop('Class', axis=1)\n",
    "    y_temp = df['Class']\n",
    "    mi_scores = mutual_info_classif(X_temp, y_temp, random_state=42)\n",
    "    mi_series = pd.Series(mi_scores, index=X_temp.columns).sort_values(ascending=False)\n",
    "    selected_features = mi_series[mi_series > 0].index.tolist()\n",
    "    X = df[selected_features]\n",
    "    y = df['Class']\n",
    "    X_train, X_test, y_train, y_test = train_test_split(\n",
    "        X, y, test_size=0.2, random_state=42, stratify=y)\n",
    "    scaler = StandardScaler()\n",
    "    X_train_scaled = scaler.fit_transform(X_train)\n",
    "except FileNotFoundError:\n",
    "    print(\"Error: creditcard.csv not found. Make sure it is in the 'data/raw' directory.\")\n",
    "\n",
    "if 'X_train_scaled' in locals() and 'y_train' in locals():\n",
    "    print(\"\nApplying SMOTE to training set...\")\n",
    "    sm = SMOTE(random_state=42)\n",
    "    X_train_res, y_train_res = sm.fit_resample(X_train_scaled, y_train)\n",
    "\n",
    "    train_res_df = pd.DataFrame(X_train_res, columns=X_train.columns)\n",
    "    train_res_df['Class'] = y_train_res\n",
    "    plt.figure(figsize=(12,6))\n",
    "    sns.boxplot(x='Class', y='Amount', data=train_res_df)\n",
    "    plt.title(\"Boxplot of 'Amount' AFTER SMOTE\")\n",
    "    plt.savefig(f\"{output_viz_path}{members['Sandali']}_Sandali_smote_boxplot_after.png\")\n",
    "    plt.close()\n",
    "\n",
    "    sns.countplot(x=y_train_res)\n",
    "    plt.title(\"Fraud (1) vs Non-Fraud (0) - After SMOTE (Train)\")\n",
    "    plt.savefig(f\"{output_viz_path}{members['Sandali']}_Sandali_smote_class_distribution.png\")\n",
    "    plt.close()\n",
    "\n",
    "    print(\"✅ SMOTE applied successfully.\")"
   ]
  }
 ],
 "metadata": {
  "kernelspec": {
   "display_name": "Python 3",
   "language": "python",
   "name": "python3"
  },
  "language_info": {
   "name": "python"
  }
 },
 "nbformat": 4,
 "nbformat_minor": 5
}