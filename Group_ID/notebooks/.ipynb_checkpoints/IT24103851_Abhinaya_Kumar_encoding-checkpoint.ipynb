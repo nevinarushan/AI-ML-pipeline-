{
 "cells": [
  {
   "cell_type": "markdown",
   "metadata": {},
   "source": [
    "# Part 2: Encode Categorical Variables\n",
    "**Student:** Abhinaya Kumar (IT24103851)"
   ]
  },
  {
   "cell_type": "code",
   "execution_count": null,
   "metadata": {},
   "outputs": [],
   "source": [
    "import pandas as pd\n",
    "from sklearn.preprocessing import LabelEncoder\n",
    "\n",
    "try:\n",
    "    df = pd.read_csv(\"../data/raw/creditcard.csv\")\n",
    "    print(\"\n=== Dataset Loaded ===\")\n",
    "except FileNotFoundError:\n",
    "    print(\"Error: creditcard.csv not found. Make sure it is in the 'data/raw' directory.\")\n",
    "\n",
    "if 'df' in locals():\n",
    "    categorical_cols = df.select_dtypes(include=['object']).columns\n",
    "    if len(categorical_cols) > 0:\n",
    "        print(f\"\nEncoding categorical variables: {list(categorical_cols)}\")\n",
    "        le = LabelEncoder()\n",
    "        for col in categorical_cols:\n",
    "            df[col] = le.fit_transform(df[col])\n",
    "        print(\"✅ Categorical variables encoded.\")\n",
    "    else:\n",
    "        print(\"✅ No categorical variables found.\")"
   ]
  }
 ],
 "metadata": {
  "kernelspec": {
   "display_name": "Python 3",
   "language": "python",
   "name": "python3"
  },
  "language_info": {
   "name": "python"
  }
 },
 "nbformat": 4,
 "nbformat_minor": 5
}