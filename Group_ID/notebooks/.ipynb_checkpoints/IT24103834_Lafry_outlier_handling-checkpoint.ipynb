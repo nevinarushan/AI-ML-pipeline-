{
 "cells": [
  {
   "cell_type": "markdown",
   "id": "575db1f5721c69ce",
   "metadata": {},
   "source": [
    "# Part 3: Outlier Handling\n",
    "**Student:** Lafry (IT24103834)"
   ]
  },
  {
   "cell_type": "code",
   "execution_count": null,
   "id": "929dd4ec659d1c3a",
   "metadata": {},
   "outputs": [],
   "source": [
    "import pandas as pd\n",
    "import numpy as np\n",
    "import matplotlib.pyplot as plt\n",
    "import os\n",
    "\n",
    "members = {\"Kishan Ahamed\": \"IT24103829\", \"Abhinaya Kumar\": \"IT24103851\", \"Lafry\": \"IT24103834\", \"Nevin Nijanthan\": \"IT24102335\", \"Indhuwara\": \"IT24103022\", \"Sandali\": \"IT24103843\"}\n",
    "output_viz_path = \"../results/eda_visualizations/\"\n",
    "if not os.path.exists(output_viz_path):\n",
    "    os.makedirs(output_viz_path)\n",
    "\n",
    "try:\n",
    "    df = pd.read_csv(\"../data/raw/creditcard.csv\")\n",
    "    print(\"=== Dataset Loaded ===\")\n",
    "except FileNotFoundError:\n",
    "    print(\"Error: creditcard.csv not found. Make sure it is in the 'data/raw' directory.\")\n",
    "\n",
    "if 'df' in locals():\n",
    "    num_cols = df.select_dtypes(include=['float64', 'int64']).columns.drop('Class', errors='ignore')\n",
    "    print(f\"\\nClipping outliers in {len(num_cols)} numeric features to 1st–99th percentile...\")\n",
    "    df[num_cols].hist(figsize=(20, 15), bins=30, edgecolor='black')\n",
    "    plt.suptitle(\"Numeric Features Histograms BEFORE Outlier Clipping\", fontsize=16)\n",
    "    plt.savefig(f\"{output_viz_path}{members['Lafry']}_Lafry_outlier_histograms_before.png\")\n",
    "    plt.close()\n",
    "    for col in num_cols:\n",
    "        lower = df[col].quantile(0.01)\n",
    "        upper = df[col].quantile(0.99)\n",
    "        df[col] = np.clip(df[col], lower, upper)\n",
    "    df[num_cols].hist(figsize=(20, 15), bins=30, edgecolor='black')\n",
    "    plt.suptitle(\"Numeric Features Histograms AFTER Outlier Clipping\", fontsize=16)\n",
    "    plt.savefig(f\"{output_viz_path}{members['Lafry']}_Lafry_outlier_histograms_after.png\")\n",
    "    plt.close()\n",
    "    print(\"✅ Outlier clipping complete.\")"
   ]
  }
 ],
 "metadata": {
  "kernelspec": {
   "display_name": "Python 3",
   "language": "python",
   "name": "python3"
  },
  "language_info": {
   "name": "python"
  }
 },
 "nbformat": 4,
 "nbformat_minor": 5
}