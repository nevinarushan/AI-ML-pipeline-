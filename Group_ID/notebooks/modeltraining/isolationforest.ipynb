{
 "cells": [
  {
   "cell_type": "code",
   "execution_count": null,
   "id": "initial_id",
   "metadata": {
    "collapsed": true
   },
   "outputs": [],
   "source": [
    ""
   ]
  },
  {
   "metadata": {
    "ExecuteTime": {
     "end_time": "2025-10-18T05:21:39.951533Z",
     "start_time": "2025-10-18T05:19:15.660607Z"
    }
   },
   "cell_type": "code",
   "source": [
    "# ========================= Imports =========================\n",
    "%matplotlib inline\n",
    "\n",
    "import pandas as pd\n",
    "import numpy as np\n",
    "from sklearn.preprocessing import StandardScaler, LabelEncoder\n",
    "from sklearn.model_selection import train_test_split, RandomizedSearchCV\n",
    "from sklearn.feature_selection import mutual_info_classif\n",
    "from sklearn.ensemble import IsolationForest\n",
    "from sklearn.metrics import classification_report, confusion_matrix, roc_auc_score\n",
    "\n",
    "# ========================= Load Dataset =========================\n",
    "df = pd.read_csv(r\"C:\\Users\\NEVIN\\PycharmProjects\\DataPreprocessing\\Group_ID\\data\\raw\\creditcard.csv\")\n",
    "print(\"\\n=== Dataset Loaded ===\")\n",
    "\n",
    "# ========================= Handle Missing Values =========================\n",
    "for col in df.columns:\n",
    "    if df[col].dtype in ['float64', 'int64']:\n",
    "        df[col] = df[col].fillna(df[col].median())\n",
    "    else:\n",
    "        df[col] = df[col].fillna(df[col].mode()[0])\n",
    "\n",
    "# ========================= Encode Categorical Variables =========================\n",
    "categorical_cols = df.select_dtypes(include=['object']).columns\n",
    "if len(categorical_cols) > 0:\n",
    "    le = LabelEncoder()\n",
    "    for col in categorical_cols:\n",
    "        df[col] = le.fit_transform(df[col])\n",
    "\n",
    "# ========================= Outlier Handling =========================\n",
    "num_cols = df.select_dtypes(include=['float64', 'int64']).columns.drop('Class', errors='ignore')\n",
    "for col in num_cols:\n",
    "    lower = df[col].quantile(0.01)\n",
    "    upper = df[col].quantile(0.99)\n",
    "    df[col] = np.clip(df[col], lower, upper)\n",
    "\n",
    "# ========================= Feature Engineering =========================\n",
    "if 'Amount' in df.columns and 'Time' in df.columns:\n",
    "    df['Amount_per_Time'] = df['Amount'] / (df['Time'] + 1)\n",
    "\n",
    "# ========================= Feature Selection =========================\n",
    "X_temp = df.drop('Class', axis=1)\n",
    "y_temp = df['Class']\n",
    "mi_scores = mutual_info_classif(X_temp, y_temp, random_state=42)\n",
    "mi_series = pd.Series(mi_scores, index=X_temp.columns).sort_values(ascending=False)\n",
    "selected_features = mi_series[mi_series > 0].index.tolist()\n",
    "\n",
    "X = df[selected_features]\n",
    "y = df['Class']\n",
    "\n",
    "# ========================= Train/Test Split + Scaling =========================\n",
    "X_train, X_test, y_train, y_test = train_test_split(\n",
    "    X, y, test_size=0.2, random_state=42, stratify=y\n",
    ")\n",
    "\n",
    "scaler = StandardScaler()\n",
    "X_train_scaled = scaler.fit_transform(X_train)\n",
    "X_test_scaled = scaler.transform(X_test)\n",
    "\n",
    "# ========================= Subset for Hyperparameter Tuning =========================\n",
    "X_train_normal = X_train_scaled[y_train == 0]  # only normal samples\n",
    "subset_size = min(60000, len(X_train_normal))\n",
    "X_train_subset = X_train_normal[:subset_size]\n",
    "\n",
    "# ========================= Hyperparameter Tuning =========================\n",
    "param_dist = {\n",
    "    'n_estimators': [100, 150, 200, 250],\n",
    "    'max_samples': [0.6, 0.7, 0.8, 0.9, 1.0],\n",
    "    'contamination': [y_train.sum() / len(y_train)],  # actual fraud fraction\n",
    "    'max_features': [0.6, 0.7, 0.8, 0.9, 1.0]\n",
    "}\n",
    "\n",
    "iso = IsolationForest(random_state=42, n_jobs=-1)\n",
    "\n",
    "iso_random = RandomizedSearchCV(\n",
    "    estimator=iso,\n",
    "    param_distributions=param_dist,\n",
    "    n_iter=10,          # test 10 random combinations\n",
    "    scoring='roc_auc',\n",
    "    cv=2,               # 2-fold CV\n",
    "    random_state=42,\n",
    "    verbose=1,\n",
    "    n_jobs=-1\n",
    ")\n",
    "\n",
    "print(\"\\n=== Running Hyperparameter Tuning (~10-15 mins) ===\")\n",
    "iso_random.fit(X_train_subset, np.zeros(len(X_train_subset)))  # unsupervised labels\n",
    "\n",
    "print(\"\\n=== Best Parameters ===\")\n",
    "print(iso_random.best_params_)\n",
    "\n",
    "# ========================= Train Best Model on Full Training Data =========================\n",
    "best_iso = iso_random.best_estimator_\n",
    "best_iso.fit(X_train_scaled)\n",
    "\n",
    "# ========================= Predictions & Evaluation =========================\n",
    "y_pred_if = best_iso.predict(X_test_scaled)\n",
    "y_pred = np.where(y_pred_if == -1, 1, 0)  # convert to 0=non-fraud, 1=fraud\n",
    "\n",
    "print(\"\\n=== Classification Report ===\")\n",
    "print(classification_report(y_test, y_pred, digits=4))\n",
    "\n",
    "print(\"\\n=== Confusion Matrix ===\")\n",
    "print(confusion_matrix(y_test, y_pred))\n",
    "\n",
    "y_scores = -best_iso.decision_function(X_test_scaled)\n",
    "roc_auc = roc_auc_score(y_test, y_scores)\n",
    "print(f\"\\nROC-AUC Score: {roc_auc:.4f}\")\n"
   ],
   "id": "615ad486b033da2f",
   "outputs": [
    {
     "name": "stdout",
     "output_type": "stream",
     "text": [
      "\n",
      "=== Dataset Loaded ===\n",
      "\n",
      "=== Running Hyperparameter Tuning (~10-15 mins) ===\n",
      "Fitting 2 folds for each of 10 candidates, totalling 20 fits\n"
     ]
    },
    {
     "name": "stderr",
     "output_type": "stream",
     "text": [
      "C:\\Users\\NEVIN\\PycharmProjects\\DataPreprocessing\\.venv\\Lib\\site-packages\\sklearn\\model_selection\\_search.py:1135: UserWarning: One or more of the test scores are non-finite: [nan nan nan nan nan nan nan nan nan nan]\n",
      "  warnings.warn(\n"
     ]
    },
    {
     "name": "stdout",
     "output_type": "stream",
     "text": [
      "\n",
      "=== Best Parameters ===\n",
      "{'n_estimators': 250, 'max_samples': 0.6, 'max_features': 1.0, 'contamination': np.float64(0.001729245759178389)}\n",
      "\n",
      "=== Classification Report ===\n",
      "              precision    recall  f1-score   support\n",
      "\n",
      "           0     0.9986    0.9983    0.9985     56864\n",
      "           1     0.1754    0.2041    0.1887        98\n",
      "\n",
      "    accuracy                         0.9970     56962\n",
      "   macro avg     0.5870    0.6012    0.5936     56962\n",
      "weighted avg     0.9972    0.9970    0.9971     56962\n",
      "\n",
      "\n",
      "=== Confusion Matrix ===\n",
      "[[56770    94]\n",
      " [   78    20]]\n",
      "\n",
      "ROC-AUC Score: 0.9571\n"
     ]
    }
   ],
   "execution_count": 1
  },
  {
   "metadata": {},
   "cell_type": "code",
   "outputs": [],
   "execution_count": null,
   "source": "",
   "id": "55d9b847cea77a59"
  }
 ],
 "metadata": {
  "kernelspec": {
   "display_name": "Python 3",
   "language": "python",
   "name": "python3"
  },
  "language_info": {
   "codemirror_mode": {
    "name": "ipython",
    "version": 2
   },
   "file_extension": ".py",
   "mimetype": "text/x-python",
   "name": "python",
   "nbconvert_exporter": "python",
   "pygments_lexer": "ipython2",
   "version": "2.7.6"
  }
 },
 "nbformat": 4,
 "nbformat_minor": 5
}
